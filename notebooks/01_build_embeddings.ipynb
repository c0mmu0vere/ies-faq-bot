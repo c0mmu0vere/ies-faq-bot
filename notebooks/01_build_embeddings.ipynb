{
 "cells": [
  {
   "cell_type": "code",
   "execution_count": 1,
   "id": "198bfc13",
   "metadata": {},
   "outputs": [
    {
     "name": "stderr",
     "output_type": "stream",
     "text": [
      "/home/u0174382/ies-faq-bot/venv/lib/python3.12/site-packages/tqdm/auto.py:21: TqdmWarning: IProgress not found. Please update jupyter and ipywidgets. See https://ipywidgets.readthedocs.io/en/stable/user_install.html\n",
      "  from .autonotebook import tqdm as notebook_tqdm\n"
     ]
    }
   ],
   "source": [
    "import pandas as pd\n",
    "import numpy as np\n",
    "from sentence_transformers import SentenceTransformer"
   ]
  },
  {
   "cell_type": "code",
   "execution_count": 8,
   "id": "5ee1d2b0",
   "metadata": {},
   "outputs": [],
   "source": [
    "# 1) Cargar FAQs\n",
    "df = pd.read_csv(\"../data/faqs.csv\")  # columnas: pregunta_faq,respuesta\n",
    "assert {\"pregunta_faq\", \"respuesta\"}.issubset(df.columns), \"Faltan columnas requeridas\""
   ]
  },
  {
   "cell_type": "code",
   "execution_count": 9,
   "id": "ad189a86",
   "metadata": {},
   "outputs": [],
   "source": [
    "# 2) Cargar modelo de embeddings (multilingüe)\n",
    "model_name = \"sentence-transformers/paraphrase-multilingual-MiniLM-L12-v2\"\n",
    "model = SentenceTransformer(model_name)"
   ]
  },
  {
   "cell_type": "code",
   "execution_count": 10,
   "id": "d4f470de",
   "metadata": {},
   "outputs": [],
   "source": [
    "# 3) Generar embeddings de preguntas FAQ\n",
    "faq_questions = df[\"pregunta_faq\"].fillna(\"\").tolist()\n",
    "embeddings = model.encode(faq_questions, normalize_embeddings=True)  # normalizamos para que coseno = dot"
   ]
  },
  {
   "cell_type": "code",
   "execution_count": 12,
   "id": "c194eb9c",
   "metadata": {},
   "outputs": [
    {
     "name": "stdout",
     "output_type": "stream",
     "text": [
      "Listo. Embeddings guardados en data/embeddings.npz. Forma: (31, 384)\n"
     ]
    }
   ],
   "source": [
    "# 4) Guardar a disco (para no re-computar cada vez)\n",
    "np.savez(\"../data/embeddings.npz\", vectors=embeddings)\n",
    "print(\"Listo. Embeddings guardados en data/embeddings.npz. Forma:\", embeddings.shape)"
   ]
  }
 ],
 "metadata": {
  "kernelspec": {
   "display_name": "venv",
   "language": "python",
   "name": "python3"
  },
  "language_info": {
   "codemirror_mode": {
    "name": "ipython",
    "version": 3
   },
   "file_extension": ".py",
   "mimetype": "text/x-python",
   "name": "python",
   "nbconvert_exporter": "python",
   "pygments_lexer": "ipython3",
   "version": "3.12.3"
  }
 },
 "nbformat": 4,
 "nbformat_minor": 5
}
